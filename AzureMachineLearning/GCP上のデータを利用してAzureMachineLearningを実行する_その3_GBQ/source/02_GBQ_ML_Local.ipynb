{
 "cells": [
  {
   "cell_type": "markdown",
   "metadata": {},
   "source": [
    "### 実験\n",
    "- データセット：Bigquery\n",
    "- 計算環境：ローカル\n"
   ]
  },
  {
   "cell_type": "markdown",
   "metadata": {},
   "source": [
    "### 環境確認"
   ]
  },
  {
   "cell_type": "code",
   "execution_count": null,
   "metadata": {
    "tags": []
   },
   "outputs": [],
   "source": [
    "import sys\n",
    "import pandas as pd\n",
    "import sklearn\n",
    "import joblib\n",
    "\n",
    "from google.cloud import bigquery\n",
    "\n",
    "\n",
    "print('python version: ', sys.version)\n",
    "print('pandas version: ', pd.__version__)\n",
    "print('sklearn version: ', sklearn.__version__)\n",
    "print('joblib version: ', joblib.__version__)\n",
    "\n",
    "print('bigquery version: ', bigquery.__version__)"
   ]
  },
  {
   "cell_type": "markdown",
   "metadata": {},
   "source": [
    "### 認証情報設定"
   ]
  },
  {
   "cell_type": "code",
   "execution_count": null,
   "metadata": {
    "tags": []
   },
   "outputs": [],
   "source": [
    "import os\n",
    "\n",
    "# Credentialsの設定\n",
    "os.environ['GOOGLE_APPLICATION_CREDENTIALS'] = 'project_folder/credential-gbqtoaml-1c3df6d8f54e.json'\n",
    "\n",
    "# Credentialsの確認\n",
    "print('Credentials from environ: {}'.format(os.environ.get('GOOGLE_APPLICATION_CREDENTIALS')))"
   ]
  },
  {
   "cell_type": "markdown",
   "metadata": {},
   "source": [
    "#### GBQデータロード"
   ]
  },
  {
   "cell_type": "code",
   "execution_count": null,
   "metadata": {},
   "outputs": [],
   "source": [
    "import pandas\n",
    "from google.cloud import bigquery\n",
    "\n",
    "table_id = 'tb_breast_cancer'\n",
    "dataset_name = \"dataset_cancer\"\n",
    "project_name =  \"bap-gbqtoaml-dev\"\n",
    "from_table = project_name + \".\" + dataset_name + \".\" +table_id\n",
    "\n",
    "client = bigquery.Client()\n",
    "\n",
    "sql = \"\"\"\n",
    "    SELECT *\n",
    "    FROM `\"\"\" + from_table +\"\"\"`\n",
    "\"\"\"\n",
    "\n",
    "bigquery_data = client.query(sql)"
   ]
  },
  {
   "cell_type": "code",
   "execution_count": null,
   "metadata": {},
   "outputs": [],
   "source": [
    "# データフレーム作成\n",
    "data = bigquery_data.to_dataframe()\n",
    "data.head(2)"
   ]
  },
  {
   "cell_type": "markdown",
   "metadata": {},
   "source": [
    "#### ローカルでモデル作成"
   ]
  },
  {
   "cell_type": "code",
   "execution_count": null,
   "metadata": {
    "tags": []
   },
   "outputs": [],
   "source": [
    "# ライブラリのインポート\n",
    "import pandas as pd\n",
    "from sklearn.datasets import load_breast_cancer\n",
    "from sklearn.model_selection import train_test_split\n",
    "from sklearn import model_selection \n",
    "from sklearn.ensemble import RandomForestClassifier\n",
    "\n",
    "seed = 0\n",
    "\n",
    "# 学習とテストデータを分ける\n",
    "X = data.iloc[:,:-1]\n",
    "y = data.iloc[:,-1]\n",
    "X_train, X_test, y_train, y_test = train_test_split(X, y, random_state=seed)\n",
    "kfold = model_selection.KFold(n_splits = 5)\n",
    "scores = {}\n",
    "\n",
    "# ランダムフォレスト\n",
    "rfc_clf = RandomForestClassifier(max_depth=5, random_state=seed)\n",
    "rfc_clf.fit(X_train, y_train)\n",
    "\n",
    "# 結果作成\n",
    "results = model_selection.cross_val_score(rfc_clf, X_test, y_test, cv = kfold)\n",
    "scores[('Random Forest', 'train_score')] = results.mean()\n",
    "scores[('Random Forest', 'test_score')] = rfc_clf.score(X_test, y_test)\n",
    "\n",
    "# モデル評価\n",
    "print(scores)"
   ]
  }
 ],
 "metadata": {
  "kernelspec": {
   "display_name": "Python 3.6.10 64-bit ('py36gcp': conda)",
   "language": "python",
   "name": "python361064bitpy36gcpconda53155a48c7df4f8d8be65adda191c3be"
  },
  "language_info": {
   "codemirror_mode": {
    "name": "ipython",
    "version": 3
   },
   "file_extension": ".py",
   "mimetype": "text/x-python",
   "name": "python",
   "nbconvert_exporter": "python",
   "pygments_lexer": "ipython3",
   "version": "3.6.10-final"
  }
 },
 "nbformat": 4,
 "nbformat_minor": 4
}