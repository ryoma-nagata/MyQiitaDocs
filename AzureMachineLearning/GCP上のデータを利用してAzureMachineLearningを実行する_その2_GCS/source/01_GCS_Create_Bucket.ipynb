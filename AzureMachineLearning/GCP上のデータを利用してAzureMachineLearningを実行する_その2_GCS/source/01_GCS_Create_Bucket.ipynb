{
 "cells": [
  {
   "cell_type": "code",
   "execution_count": 1,
   "metadata": {
    "tags": []
   },
   "outputs": [
    {
     "output_type": "stream",
     "name": "stdout",
     "text": "python version:  3.6.10 |Anaconda, Inc.| (default, May  7 2020, 19:46:08) [MSC v.1916 64 bit (AMD64)]\ngoogle cloud storage:  1.29.0\n"
    }
   ],
   "source": [
    "# ライブラリの確認\n",
    "import sys\n",
    "from google.cloud import storage\n",
    "\n",
    "print('python version: ', sys.version)\n",
    "print(\"google cloud storage: \", storage.__version__)"
   ]
  },
  {
   "cell_type": "markdown",
   "metadata": {},
   "source": [
    "#### 認証情報取得"
   ]
  },
  {
   "cell_type": "code",
   "execution_count": 42,
   "metadata": {
    "tags": []
   },
   "outputs": [
    {
     "output_type": "stream",
     "name": "stdout",
     "text": "Credentials from environ: project_folder/credential-gbqtoaml-1c3df6d8f54e.json\n"
    }
   ],
   "source": [
    "import os\n",
    "\n",
    "# Credentialsの設定\n",
    "os.environ['GOOGLE_APPLICATION_CREDENTIALS'] = 'project_folder/credential-gbqtoaml-1c3df6d8f54e.json'\n",
    "\n",
    "# Credentialsの確認\n",
    "print('Credentials from environ: {}'.format(os.environ.get('GOOGLE_APPLICATION_CREDENTIALS')))"
   ]
  },
  {
   "cell_type": "markdown",
   "metadata": {},
   "source": [
    "#### バケット作成"
   ]
  },
  {
   "cell_type": "code",
   "execution_count": 29,
   "metadata": {},
   "outputs": [],
   "source": [
    "mybucketname = \"mybucket-amlgcp202007\""
   ]
  },
  {
   "cell_type": "code",
   "execution_count": 30,
   "metadata": {
    "tags": []
   },
   "outputs": [
    {
     "output_type": "stream",
     "name": "stdout",
     "text": "Bucket mybucket-amlgcp202007 created\n"
    }
   ],
   "source": [
    "from google.cloud import storage\n",
    "\n",
    "def create_bucket(bucket_name):\n",
    "    \"\"\"Creates a new bucket.\"\"\"\n",
    "    # bucket_name = \"your-new-bucket-name\"\n",
    "\n",
    "    storage_client = storage.Client()\n",
    "\n",
    "    bucket = storage_client.create_bucket(bucket_name)\n",
    "\n",
    "    print(\"Bucket {} created\".format(bucket.name))\n",
    "\n",
    "create_bucket(mybucketname)"
   ]
  },
  {
   "cell_type": "markdown",
   "metadata": {},
   "source": [
    "#### バケットの表示"
   ]
  },
  {
   "cell_type": "code",
   "execution_count": 20,
   "metadata": {
    "tags": []
   },
   "outputs": [
    {
     "output_type": "stream",
     "name": "stdout",
     "text": "bap-gbqtoaml-busket\nmybucket-amlgcp2020\n"
    }
   ],
   "source": [
    "from google.cloud import storage\n",
    "\n",
    "def list_buckets():\n",
    "    \"\"\"Lists all buckets.\"\"\"\n",
    "\n",
    "    storage_client = storage.Client()\n",
    "    buckets = storage_client.list_buckets()\n",
    "\n",
    "    for bucket in buckets:\n",
    "        print(bucket.name)\n",
    "        \n",
    "list_buckets()"
   ]
  },
  {
   "cell_type": "markdown",
   "metadata": {},
   "source": [
    "#### バケット情報の表示"
   ]
  },
  {
   "cell_type": "code",
   "execution_count": 31,
   "metadata": {
    "tags": []
   },
   "outputs": [
    {
     "output_type": "stream",
     "name": "stdout",
     "text": "ID: mybucket-amlgcp202007\nName: mybucket-amlgcp202007\nStorage Class: STANDARD\nLocation: US\nLocation Type: multi-region\nCors: []\nDefault Event Based Hold: None\nDefault KMS Key Name: None\nMetageneration: 1\nRetention Effective Time: None\nRetention Period: None\nRetention Policy Locked: None\nRequester Pays: False\nSelf Link: https://www.googleapis.com/storage/v1/b/mybucket-amlgcp202007\nTime Created: 2020-07-08 05:06:47.371000+00:00\nVersioning Enabled: False\nLabels:\n{}\n"
    }
   ],
   "source": [
    "import pprint\n",
    "from google.cloud import storage\n",
    "\n",
    "def bucket_metadata(bucket_name):\n",
    "    \"\"\"Prints out a bucket's metadata.\"\"\"\n",
    "    # bucket_name = 'your-bucket-name'\n",
    "\n",
    "    storage_client = storage.Client()\n",
    "    bucket = storage_client.get_bucket(bucket_name)\n",
    "\n",
    "    print(\"ID: {}\".format(bucket.id))\n",
    "    print(\"Name: {}\".format(bucket.name))\n",
    "    print(\"Storage Class: {}\".format(bucket.storage_class))\n",
    "    print(\"Location: {}\".format(bucket.location))\n",
    "    print(\"Location Type: {}\".format(bucket.location_type))\n",
    "    print(\"Cors: {}\".format(bucket.cors))\n",
    "    print(\n",
    "        \"Default Event Based Hold: {}\".format(bucket.default_event_based_hold)\n",
    "    )\n",
    "    print(\"Default KMS Key Name: {}\".format(bucket.default_kms_key_name))\n",
    "    print(\"Metageneration: {}\".format(bucket.metageneration))\n",
    "    print(\n",
    "        \"Retention Effective Time: {}\".format(\n",
    "            bucket.retention_policy_effective_time\n",
    "        )\n",
    "    )\n",
    "    print(\"Retention Period: {}\".format(bucket.retention_period))\n",
    "    print(\"Retention Policy Locked: {}\".format(bucket.retention_policy_locked))\n",
    "    print(\"Requester Pays: {}\".format(bucket.requester_pays))\n",
    "    print(\"Self Link: {}\".format(bucket.self_link))\n",
    "    print(\"Time Created: {}\".format(bucket.time_created))\n",
    "    print(\"Versioning Enabled: {}\".format(bucket.versioning_enabled))\n",
    "    print(\"Labels:\")\n",
    "    pprint.pprint(bucket.labels)\n",
    "    \n",
    "bucket_metadata(mybucketname)"
   ]
  },
  {
   "cell_type": "markdown",
   "metadata": {},
   "source": [
    "#### オブジェクトをバケットにアップロードします。"
   ]
  },
  {
   "cell_type": "code",
   "execution_count": 33,
   "metadata": {
    "tags": []
   },
   "outputs": [
    {
     "output_type": "stream",
     "name": "stdout",
     "text": "File ../data/breast_cancer.csv uploaded to data/breast_cancer.csv.\n"
    }
   ],
   "source": [
    "from google.cloud import storage\n",
    "\n",
    "\n",
    "def upload_blob(bucket_name, source_file_name, destination_blob_name):\n",
    "    \"\"\"Uploads a file to the bucket.\"\"\"\n",
    "    # bucket_name = \"your-bucket-name\"\n",
    "    # source_file_name = \"local/path/to/file\"\n",
    "    # destination_blob_name = \"storage-object-name\"\n",
    "\n",
    "    storage_client = storage.Client()\n",
    "    bucket = storage_client.bucket(bucket_name)\n",
    "    blob = bucket.blob(destination_blob_name)\n",
    "\n",
    "    blob.upload_from_filename(source_file_name)\n",
    "\n",
    "    print(\n",
    "        \"File {} uploaded to {}.\".format(\n",
    "            source_file_name, destination_blob_name\n",
    "        )\n",
    "    )\n",
    "\n",
    "upload_blob(mybucketname,\n",
    "            \"../data/breast_cancer.csv\", \n",
    "            \"data/breast_cancer.csv\")"
   ]
  },
  {
   "cell_type": "markdown",
   "metadata": {},
   "source": [
    "#### blobの表示"
   ]
  },
  {
   "cell_type": "code",
   "execution_count": 40,
   "metadata": {
    "tags": []
   },
   "outputs": [
    {
     "output_type": "stream",
     "name": "stdout",
     "text": "data/breast_cancer.csv\n"
    }
   ],
   "source": [
    "from google.cloud import storage\n",
    "\n",
    "def list_blobs(bucket_name):\n",
    "    \"\"\"Lists all the blobs in the bucket.\"\"\"\n",
    "    # bucket_name = \"your-bucket-name\"\n",
    "\n",
    "    storage_client = storage.Client()\n",
    "\n",
    "    # Note: Client.list_blobs requires at least package version 1.17.0.\n",
    "    blobs = storage_client.list_blobs(bucket_name)\n",
    "\n",
    "    for blob in blobs:\n",
    "        print(blob.name)\n",
    "        \n",
    "list_blobs(mybucketname)"
   ]
  },
  {
   "cell_type": "markdown",
   "metadata": {},
   "source": [
    "データの確認"
   ]
  },
  {
   "cell_type": "code",
   "execution_count": 47,
   "metadata": {
    "tags": []
   },
   "outputs": [
    {
     "output_type": "execute_result",
     "data": {
      "text/plain": "   mean_radius  mean_texture  mean_perimeter  mean_area  mean_smoothness  \\\n0        17.99         10.38           122.8     1001.0          0.11840   \n1        20.57         17.77           132.9     1326.0          0.08474   \n\n   mean_compactness  mean_concavity  mean_concave_points  mean_symmetry  \\\n0           0.27760          0.3001              0.14710         0.2419   \n1           0.07864          0.0869              0.07017         0.1812   \n\n   mean_fractal_dimension  ...  worst_texture  worst_perimeter  worst_area  \\\n0                 0.07871  ...          17.33            184.6      2019.0   \n1                 0.05667  ...          23.41            158.8      1956.0   \n\n   worst_smoothness  worst_compactness  worst_concavity  worst_concave_points  \\\n0            0.1622             0.6656           0.7119                0.2654   \n1            0.1238             0.1866           0.2416                0.1860   \n\n   worst_symmetry  worst_fractal_dimension  target  \n0          0.4601                  0.11890       0  \n1          0.2750                  0.08902       0  \n\n[2 rows x 31 columns]",
      "text/html": "<div>\n<style scoped>\n    .dataframe tbody tr th:only-of-type {\n        vertical-align: middle;\n    }\n\n    .dataframe tbody tr th {\n        vertical-align: top;\n    }\n\n    .dataframe thead th {\n        text-align: right;\n    }\n</style>\n<table border=\"1\" class=\"dataframe\">\n  <thead>\n    <tr style=\"text-align: right;\">\n      <th></th>\n      <th>mean_radius</th>\n      <th>mean_texture</th>\n      <th>mean_perimeter</th>\n      <th>mean_area</th>\n      <th>mean_smoothness</th>\n      <th>mean_compactness</th>\n      <th>mean_concavity</th>\n      <th>mean_concave_points</th>\n      <th>mean_symmetry</th>\n      <th>mean_fractal_dimension</th>\n      <th>...</th>\n      <th>worst_texture</th>\n      <th>worst_perimeter</th>\n      <th>worst_area</th>\n      <th>worst_smoothness</th>\n      <th>worst_compactness</th>\n      <th>worst_concavity</th>\n      <th>worst_concave_points</th>\n      <th>worst_symmetry</th>\n      <th>worst_fractal_dimension</th>\n      <th>target</th>\n    </tr>\n  </thead>\n  <tbody>\n    <tr>\n      <th>0</th>\n      <td>17.99</td>\n      <td>10.38</td>\n      <td>122.8</td>\n      <td>1001.0</td>\n      <td>0.11840</td>\n      <td>0.27760</td>\n      <td>0.3001</td>\n      <td>0.14710</td>\n      <td>0.2419</td>\n      <td>0.07871</td>\n      <td>...</td>\n      <td>17.33</td>\n      <td>184.6</td>\n      <td>2019.0</td>\n      <td>0.1622</td>\n      <td>0.6656</td>\n      <td>0.7119</td>\n      <td>0.2654</td>\n      <td>0.4601</td>\n      <td>0.11890</td>\n      <td>0</td>\n    </tr>\n    <tr>\n      <th>1</th>\n      <td>20.57</td>\n      <td>17.77</td>\n      <td>132.9</td>\n      <td>1326.0</td>\n      <td>0.08474</td>\n      <td>0.07864</td>\n      <td>0.0869</td>\n      <td>0.07017</td>\n      <td>0.1812</td>\n      <td>0.05667</td>\n      <td>...</td>\n      <td>23.41</td>\n      <td>158.8</td>\n      <td>1956.0</td>\n      <td>0.1238</td>\n      <td>0.1866</td>\n      <td>0.2416</td>\n      <td>0.1860</td>\n      <td>0.2750</td>\n      <td>0.08902</td>\n      <td>0</td>\n    </tr>\n  </tbody>\n</table>\n<p>2 rows × 31 columns</p>\n</div>"
     },
     "metadata": {},
     "execution_count": 47
    }
   ],
   "source": [
    "import gcsfs\n",
    "import pandas as pd\n",
    "\n",
    "project_name = 'BAP-GBQtoAML-Dev'\n",
    "file_path = mybucketname + '/data/breast_cancer.csv'\n",
    "\n",
    "fs = gcsfs.GCSFileSystem(project=project_name,token=os.environ.get('GOOGLE_APPLICATION_CREDENTIALS'))\n",
    "fs.ls(mybucketname)\n",
    "\n",
    "with fs.open(file_path, 'rb') as f:\n",
    "    data = pd.read_csv(f)\n",
    "data.head(2)"
   ]
  }
 ],
 "metadata": {
  "kernelspec": {
   "display_name": "Python 3.6.10 64-bit ('py36gcp': conda)",
   "language": "python",
   "name": "python361064bitpy36gcpconda53155a48c7df4f8d8be65adda191c3be"
  },
  "language_info": {
   "codemirror_mode": {
    "name": "ipython",
    "version": 3
   },
   "file_extension": ".py",
   "mimetype": "text/x-python",
   "name": "python",
   "nbconvert_exporter": "python",
   "pygments_lexer": "ipython3",
   "version": "3.6.10-final"
  }
 },
 "nbformat": 4,
 "nbformat_minor": 4
}