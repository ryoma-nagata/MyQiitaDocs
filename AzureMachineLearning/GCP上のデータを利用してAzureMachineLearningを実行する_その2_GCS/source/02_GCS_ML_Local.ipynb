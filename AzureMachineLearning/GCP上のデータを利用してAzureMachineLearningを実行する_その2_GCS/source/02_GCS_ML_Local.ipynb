{
 "cells": [
  {
   "cell_type": "markdown",
   "metadata": {},
   "source": [
    "### 実験\n",
    "- データセット：Google Cloud Storage\n",
    "- 計算環境：ローカル"
   ]
  },
  {
   "cell_type": "markdown",
   "metadata": {},
   "source": [
    "### 環境確認"
   ]
  },
  {
   "cell_type": "code",
   "execution_count": null,
   "metadata": {
    "tags": []
   },
   "outputs": [],
   "source": [
    "import sys\n",
    "import pandas as pd\n",
    "import sklearn\n",
    "\n",
    "import joblib\n",
    "from google.cloud import storage\n",
    "import gcsfs\n",
    "\n",
    "print('python version: ', sys.version)\n",
    "print('pandas version: ', pd.__version__)\n",
    "print('sklearn version: ', sklearn.__version__)\n",
    "print('joblib version: ', joblib.__version__)\n",
    "\n",
    "print('Google storage version: ', storage.__version__)\n",
    "print('gcsfs version: ', gcsfs.__version__)"
   ]
  },
  {
   "cell_type": "markdown",
   "metadata": {},
   "source": [
    "### 認証情報設定"
   ]
  },
  {
   "cell_type": "code",
   "execution_count": null,
   "metadata": {
    "tags": []
   },
   "outputs": [],
   "source": [
    "import os\n",
    "\n",
    "# Credentialsの設定\n",
    "os.environ['GOOGLE_APPLICATION_CREDENTIALS'] = 'project_folder/credential-gbqtoaml-1c3df6d8f54e.json'\n",
    "\n",
    "# Credentialsの確認\n",
    "print('Credentials from environ: {}'.format(os.environ.get('GOOGLE_APPLICATION_CREDENTIALS')))"
   ]
  },
  {
   "cell_type": "markdown",
   "metadata": {},
   "source": [
    "#### GCSデータロード"
   ]
  },
  {
   "cell_type": "code",
   "execution_count": null,
   "metadata": {},
   "outputs": [],
   "source": [
    "mybucketname = \"mybucket-amlgcp202007\""
   ]
  },
  {
   "cell_type": "code",
   "execution_count": null,
   "metadata": {},
   "outputs": [],
   "source": [
    "# データフレーム作成\n",
    "# file_path: Cloud Console [Storage] > ブラウザー > バケット名 > フォルダ > ファイル\n",
    "# URIにあるパスをコピーします。\n",
    "\n",
    "import gcsfs\n",
    "\n",
    "project_name = \"gcpのプロジェクト名を指定します\"\n",
    "file_path = mybucketname + '/data/breast_cancer.csv'\n",
    "\n",
    "fs = gcsfs.GCSFileSystem(project=project_name,token=os.environ.get('GOOGLE_APPLICATION_CREDENTIALS'))\n",
    "fs.ls(mybucketname)\n",
    "\n",
    "with fs.open(file_path, 'rb') as f:\n",
    "    data = pd.read_csv(f)\n",
    "data.head(2)"
   ]
  },
  {
   "cell_type": "markdown",
   "metadata": {},
   "source": [
    "#### ローカルでモデル作成"
   ]
  },
  {
   "cell_type": "code",
   "execution_count": null,
   "metadata": {
    "tags": []
   },
   "outputs": [],
   "source": [
    "# ライブラリのインポート\n",
    "import pandas as pd\n",
    "from sklearn.datasets import load_breast_cancer\n",
    "from sklearn.model_selection import train_test_split\n",
    "from sklearn import model_selection \n",
    "from sklearn.ensemble import RandomForestClassifier\n",
    "\n",
    "seed = 0\n",
    "\n",
    "# 学習とテストデータを分ける\n",
    "X = data.iloc[:,:-1]\n",
    "y = data.iloc[:,-1]\n",
    "X_train, X_test, y_train, y_test = train_test_split(X, y, random_state=seed)\n",
    "kfold = model_selection.KFold(n_splits = 5)\n",
    "scores = {}\n",
    "\n",
    "# ランダムフォレスト\n",
    "rfc_clf = RandomForestClassifier(max_depth=5, random_state=seed)\n",
    "rfc_clf.fit(X_train, y_train)\n",
    "\n",
    "# 結果作成\n",
    "results = model_selection.cross_val_score(rfc_clf, X_test, y_test, cv = kfold)\n",
    "scores[('Random Forest', 'train_score')] = results.mean()\n",
    "scores[('Random Forest', 'test_score')] = rfc_clf.score(X_test, y_test)\n",
    "\n",
    "# モデル評価\n",
    "print(scores)"
   ]
  }
 ],
 "metadata": {
  "kernelspec": {
   "display_name": "Python 3.6.10 64-bit ('py36gcp': conda)",
   "language": "python",
   "name": "python361064bitpy36gcpconda53155a48c7df4f8d8be65adda191c3be"
  },
  "language_info": {
   "codemirror_mode": {
    "name": "ipython",
    "version": 3
   },
   "file_extension": ".py",
   "mimetype": "text/x-python",
   "name": "python",
   "nbconvert_exporter": "python",
   "pygments_lexer": "ipython3",
   "version": "3.6.10-final"
  }
 },
 "nbformat": 4,
 "nbformat_minor": 4
}